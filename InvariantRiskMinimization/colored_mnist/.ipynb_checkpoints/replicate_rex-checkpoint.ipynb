{
 "cells": [
  {
   "cell_type": "markdown",
   "id": "03f80c4e-1114-46ee-9ff3-f1e17552eab9",
   "metadata": {},
   "source": [
    "### Imports and Initial Parameters"
   ]
  },
  {
   "cell_type": "code",
   "execution_count": 1,
   "id": "ddfb1a26-a708-4392-88c1-f23476424ad4",
   "metadata": {},
   "outputs": [
    {
     "name": "stdout",
     "output_type": "stream",
     "text": [
      "Flags:\n",
      "\tbatch_size: 25\n",
      "\tearly_loss_mean: True\n",
      "\term_amount: 1.0\n",
      "\teval_interval: 100\n",
      "\tf: <_io.TextIOWrapper name='/home/ugrads/c/clearloveyanzhen/.local/share/jupyter/runtime/kernel-85b11b39-aac6-48b8-8d42-2d89408a6295.json' mode='r' encoding='UTF-8'>\n",
      "\tgrayscale_model: False\n",
      "\thidden_dim: 256\n",
      "\tl2_regularizer_weight: 0.001\n",
      "\tlr: 0.001\n",
      "\tmse: True\n",
      "\tn_restarts: 10\n",
      "\tnpy_data_path: ../../../subject_variance_analysis/batched_data/\n",
      "\tpenalty_anneal_iters: 100\n",
      "\tpenalty_weight: 10000.0\n",
      "\tplot: True\n",
      "\tprint_eval_intervals: True\n",
      "\trex: True\n",
      "\tsave_numpy_log: True\n",
      "\tsteps: 1001\n",
      "\ttest_env__color_noise: 0.9\n",
      "\ttrain_env_1__color_noise: 0.2\n",
      "\ttrain_env_2__color_noise: 0.1\n",
      "\ttrain_set_size: 250\n"
     ]
    }
   ],
   "source": [
    "import argparse\n",
    "import numpy as np\n",
    "import torch\n",
    "import torch.nn.functional as F\n",
    "from torchvision import datasets\n",
    "from torch import nn, optim, autograd\n",
    "import os, sys\n",
    "import wandb\n",
    "sys.path.append( '/home/ugrads/c/clearloveyanzhen/CufflessBP/bioz_processing' )\n",
    "import sicong_util as su\n",
    "import matplotlib.pyplot as plt\n",
    "from pprint import pprint\n",
    "os.environ['CUDA_VISIBLE_DEVICES'] = \"5\"\n",
    "\n",
    "def str2bool(v):\n",
    "    return v.lower() in (\"yes\", \"true\", \"t\", \"1\")\n",
    "\n",
    "use_cuda = torch.cuda.is_available()\n",
    "\n",
    "parser = argparse.ArgumentParser(description='Colored MNIST')\n",
    "parser.add_argument('--hidden_dim', type=int, default=256)\n",
    "parser.add_argument('--l2_regularizer_weight', type=float,default=0.001)\n",
    "parser.add_argument('--lr', type=float, default=0.001)\n",
    "parser.add_argument('--n_restarts', type=int, default=10)\n",
    "parser.add_argument('--penalty_anneal_iters', type=int, default=100)\n",
    "parser.add_argument('--penalty_weight', type=float, default=10000.0)\n",
    "parser.add_argument('--steps', type=int, default=1001)\n",
    "parser.add_argument('--grayscale_model', type=str2bool, default=False)\n",
    "parser.add_argument('--batch_size', type=int, default=25)\n",
    "parser.add_argument('--train_set_size', type=int, default=250)\n",
    "parser.add_argument('--eval_interval', type=int, default=100)\n",
    "parser.add_argument('--print_eval_intervals', type=str2bool, default=True)\n",
    "\n",
    "parser.add_argument('--train_env_1__color_noise', type=float, default=0.2)\n",
    "parser.add_argument('--train_env_2__color_noise', type=float, default=0.1)\n",
    "#parser.add_argument('--val_env__color_noise', type=float, default=0.1)\n",
    "parser.add_argument('--test_env__color_noise', type=float, default=0.9)\n",
    "\n",
    "parser.add_argument('--erm_amount', type=float, default=1.0)\n",
    "\n",
    "parser.add_argument('--early_loss_mean', type=str2bool, default=True)\n",
    "\n",
    "parser.add_argument('--rex', type=str2bool, default=True)\n",
    "parser.add_argument('--mse', type=str2bool, default=True)\n",
    "\n",
    "parser.add_argument('--plot', type=str2bool, default=True)\n",
    "parser.add_argument('--save_numpy_log', type=str2bool, default=True)\n",
    "parser.add_argument('-f', type=open, default='')\n",
    "parser.add_argument('--npy_data_path', default='../../../subject_variance_analysis/batched_data/')\n",
    "\n",
    "flags = parser.parse_args()\n",
    "\n",
    "print('Flags:')\n",
    "for k,v in sorted(vars(flags).items()):\n",
    "    print(\"\\t{}: {}\".format(k, v))\n",
    "\n",
    "num_batches = (flags.train_set_size // 2) // flags.batch_size"
   ]
  },
  {
   "cell_type": "markdown",
   "id": "01d2a2b6-f405-45d6-8ecc-3305b7fcf2ff",
   "metadata": {
    "tags": []
   },
   "source": [
    "### Prepare Loggings"
   ]
  },
  {
   "cell_type": "code",
   "execution_count": 2,
   "id": "7b4d5bd7-6592-4626-86c4-3a4edce43255",
   "metadata": {},
   "outputs": [],
   "source": [
    "# TODO: logging\n",
    "all_train_nlls = -1*np.ones((flags.n_restarts, flags.steps))\n",
    "all_train_accs = -1*np.ones((flags.n_restarts, flags.steps))\n",
    "#all_train_penalties = -1*np.ones((flags.n_restarts, flags.steps))\n",
    "all_irmv1_penalties = -1*np.ones((flags.n_restarts, flags.steps))\n",
    "all_rex_penalties = -1*np.ones((flags.n_restarts, flags.steps))\n",
    "all_test_accs = -1*np.ones((flags.n_restarts, flags.steps))\n",
    "all_grayscale_test_accs = -1*np.ones((flags.n_restarts, flags.steps))\n",
    "final_train_accs = []\n",
    "final_test_accs = []\n",
    "highest_test_accs = []"
   ]
  },
  {
   "cell_type": "markdown",
   "id": "fb1825fc-db2d-4a6c-9d96-bee4854af388",
   "metadata": {},
   "source": [
    "### Prepare Inputs"
   ]
  },
  {
   "cell_type": "code",
   "execution_count": 12,
   "id": "d32aa3d9-ccf1-44b1-af0d-254ae1a780d1",
   "metadata": {},
   "outputs": [],
   "source": [
    "mnist = datasets.MNIST('~/datasets/mnist', train=True, download=True)\n",
    "mnist_train = (mnist.data[:50000], mnist.targets[:50000])\n",
    "mnist_val = (mnist.data[50000:], mnist.targets[50000:])\n",
    "\n",
    "rng_state = np.random.get_state()\n",
    "np.random.shuffle(mnist_train[0].numpy())\n",
    "np.random.set_state(rng_state)\n",
    "np.random.shuffle(mnist_train[1].numpy())"
   ]
  },
  {
   "cell_type": "code",
   "execution_count": 3,
   "id": "a2be1b4a-d397-4e7f-a982-13d7b02de408",
   "metadata": {},
   "outputs": [],
   "source": [
    "def label_binary_converter(in_x, in_y, bp_type='sbp', in_vals=[140, 150], thre=[-2, +2], split_size=0.2, out_vals=[0,1]):\n",
    "    # in_x=X; in_y=y; bp_type='sbp'; in_vals=[120, 160]; thre=[-2, +2]; out_vals=[0,1]; balanced_out=True\n",
    "    if len(in_y.shape) == 2:\n",
    "        if bp_type == 'sbp':\n",
    "            in_y=in_y[:,0]\n",
    "        else:\n",
    "            in_y=in_y[:,1]\n",
    "    if in_vals[0] == 0:\n",
    "        out_y=in_y[((in_y >= in_vals[1]-10+thre[0])&(in_y <= in_vals[1]+10+thre[1]))]\n",
    "        plt.plot(out_y, 'r.', alpha=0.3, label='continuous')\n",
    "        plt.plot(np.where((out_y >= in_vals[1]+thre[0])&(out_y <= in_vals[1]+thre[1]), in_vals[1], max(in_vals[0], 110)), 'k.', alpha=0.2, label='discrete')\n",
    "        out_y=np.where((out_y >= in_vals[1]+thre[0])&(out_y <= in_vals[1]+thre[1]), out_vals[1], out_vals[0])\n",
    "        out_x=in_x[((in_y >= in_vals[1]-10+thre[0])&(in_y <= in_vals[1]+10+thre[1]))]\n",
    "    else:\n",
    "        out_y=in_y[((in_y >= in_vals[0]+thre[0])&(in_y <= in_vals[0]+thre[1])) | ((in_y >= in_vals[1]+thre[0])&(in_y <= in_vals[1]+thre[1]))]\n",
    "        plt.plot(out_y, 'r.', alpha=0.3, label='continuous')\n",
    "        plt.plot(np.where((out_y >= in_vals[1]+thre[0])&(out_y <= in_vals[1]+thre[1]), in_vals[1], max(in_vals[0], 110)), 'k.', alpha=0.2, label='discrete')\n",
    "        out_y=np.where(out_y < in_vals[1]+thre[0], 0, 1)\n",
    "        out_x=in_x[((in_y >= in_vals[0]+thre[0])&(in_y <= in_vals[0]+thre[1])) | ((in_y >= in_vals[1]+thre[0])&(in_y <= in_vals[1]+thre[1]))]\n",
    "    plt.legend()\n",
    "    plt.show()\n",
    "    return out_x, out_y"
   ]
  },
  {
   "cell_type": "code",
   "execution_count": 115,
   "id": "731d132d-e7d8-469f-8290-8c4d93dab44a",
   "metadata": {},
   "outputs": [],
   "source": [
    "bioz_data = np.load('../../../subject_variance_analysis/batched_data/X_file 75A Morph s6 11_07_35.npy')\n",
    "bioz_label = np.load('../../../subject_variance_analysis/batched_data/y_file 75A Morph s6 11_07_35.npy')"
   ]
  },
  {
   "cell_type": "code",
   "execution_count": 4,
   "id": "fb7b3c4a-61a0-4374-a9b5-4fd9a034e4a7",
   "metadata": {},
   "outputs": [
    {
     "name": "stdout",
     "output_type": "stream",
     "text": [
      "['../../../subject_variance_analysis/batched_data/X_file 75A Morph.npy',\n",
      " '../../../subject_variance_analysis/batched_data/X_file 75E Morph.npy',\n",
      " '../../../subject_variance_analysis/batched_data/X_file 75H Morph.npy']\n",
      "['../../../subject_variance_analysis/batched_data/y_file 75A Morph.npy',\n",
      " '../../../subject_variance_analysis/batched_data/y_file 75E Morph.npy',\n",
      " '../../../subject_variance_analysis/batched_data/y_file 75H Morph.npy']\n"
     ]
    }
   ],
   "source": [
    "# npy_data_path='../../../subject_variance_analysis/batched_data/'\n",
    "bioz_data_list = []\n",
    "bioz_label_list = []\n",
    "bioz_npy_list = os.listdir(flags.npy_data_path)\n",
    "for each in bioz_npy_list:\n",
    "    if 'Morph' in each:\n",
    "        if 's6' not in each:\n",
    "            if '_' not in each[-10]:\n",
    "                if 'X_file' in each:\n",
    "                    bioz_data_list.append(flags.npy_data_path+each)\n",
    "                elif 'y_file' in each:\n",
    "                    bioz_label_list.append(flags.npy_data_path+each)\n",
    "bioz_data_list.sort()\n",
    "bioz_label_list.sort()\n",
    "pprint(bioz_data_list)\n",
    "pprint(bioz_label_list)"
   ]
  },
  {
   "cell_type": "code",
   "execution_count": 19,
   "id": "311be205-ace9-4a82-8d1d-87d05a1955ea",
   "metadata": {},
   "outputs": [
    {
     "data": {
      "image/png": "[encoded data removed]",
      "text/plain": [
       "<Figure size 432x288 with 1 Axes>"
      ]
     },
     "metadata": {
      "needs_background": "light"
     },
     "output_type": "display_data"
    },
    {
     "name": "stdout",
     "output_type": "stream",
     "text": [
      "../../../subject_variance_analysis/batched_data/X_file 75A Morph.npy torch.Size([1267, 69]) torch.Size([1267, 1])\n"
     ]
    },
    {
     "data": {
      "image/png": "[encoded data removed]",
      "text/plain": [
       "<Figure size 432x288 with 1 Axes>"
      ]
     },
     "metadata": {
      "needs_background": "light"
     },
     "output_type": "display_data"
    },
    {
     "name": "stdout",
     "output_type": "stream",
     "text": [
      "../../../subject_variance_analysis/batched_data/X_file 75E Morph.npy torch.Size([385, 69]) torch.Size([385, 1])\n"
     ]
    },
    {
     "data": {
      "image/png": "[encoded data removed]",
      "text/plain": [
       "<Figure size 432x288 with 1 Axes>"
      ]
     },
     "metadata": {
      "needs_background": "light"
     },
     "output_type": "display_data"
    },
    {
     "name": "stdout",
     "output_type": "stream",
     "text": [
      "../../../subject_variance_analysis/batched_data/X_file 75H Morph.npy torch.Size([852, 69]) torch.Size([852, 1])\n"
     ]
    }
   ],
   "source": [
    "layer_size=69\n",
    "def build_environment_from_trials(bioz_list, label_list, use_cuda=True):\n",
    "    if len(bioz_list) != len(label_list):\n",
    "        print('data/label mismatch')\n",
    "    envs=[]\n",
    "    for i in range(len(bioz_list)):\n",
    "        # load data\n",
    "        bioz_x = np.load(bioz_list[i])\n",
    "        bioz_y = np.load(label_list[i])\n",
    "        # binarize labels\n",
    "        bioz_x, bioz_y = label_binary_converter(bioz_x, bioz_y, in_vals=[130, 140])\n",
    "        # convert to torch\n",
    "        bioz_x = torch.from_numpy(bioz_x)\n",
    "        bioz_y = torch.from_numpy(bioz_y.reshape(-1,1))\n",
    "        print(bioz_list[i], bioz_x.shape, bioz_y.shape)\n",
    "        if use_cuda:\n",
    "            envs.append({'images':bioz_x.float().cuda(), 'labels':bioz_y.float().cuda()})\n",
    "        else:\n",
    "            envs.append({'images':bioz_x.float(), 'labels':bioz_y.float()})\n",
    "    return envs\n",
    "envs = build_environment_from_trials(bioz_data_list, bioz_label_list)"
   ]
  },
  {
   "cell_type": "code",
   "execution_count": 20,
   "id": "c4ed837a-8b35-4cee-9e1c-2b865021e981",
   "metadata": {},
   "outputs": [],
   "source": [
    "layer_size=envs[0]['images'].shape[-1]"
   ]
  },
  {
   "cell_type": "markdown",
   "id": "7a153f1a-7d5b-448e-ac40-f07551611e6d",
   "metadata": {
    "jp-MarkdownHeadingCollapsed": true,
    "tags": []
   },
   "source": [
    "### Load Data"
   ]
  },
  {
   "cell_type": "code",
   "execution_count": 241,
   "id": "424d9de1-695a-416f-b304-2b1862e13382",
   "metadata": {},
   "outputs": [
    {
     "name": "stdout",
     "output_type": "stream",
     "text": [
      "0 torch.Size([25000, 28, 28])\n",
      "tensor([0., 0., 0.,  ..., 0., 1., 0.])\n",
      "1 torch.Size([25000, 14, 14])\n",
      "2 torch.Size([25000, 2, 14, 14])\n",
      "0 torch.Size([25000, 28, 28])\n",
      "tensor([1., 0., 0.,  ..., 1., 1., 1.])\n",
      "1 torch.Size([25000, 14, 14])\n",
      "2 torch.Size([25000, 2, 14, 14])\n",
      "0 torch.Size([10000, 28, 28])\n",
      "tensor([1., 1., 1.,  ..., 1., 1., 1.])\n",
      "1 torch.Size([10000, 14, 14])\n",
      "2 torch.Size([10000, 2, 14, 14])\n",
      "0 torch.Size([10000, 28, 28])\n",
      "tensor([0., 1., 0.,  ..., 1., 1., 0.])\n",
      "1 torch.Size([10000, 14, 14])\n",
      "2 torch.Size([10000, 2, 14, 14])\n"
     ]
    }
   ],
   "source": [
    "layer_size=2*14*14\n",
    "def make_environment(images, labels, e, grayscale_dup=False):\n",
    "    def torch_bernoulli(p, size):\n",
    "        return (torch.rand(size) < p).float()\n",
    "    def torch_xor(a, b):\n",
    "        return (a-b).abs() # Assumes both inputs are either 0 or 1\n",
    "    # 2x subsample for computational convenience\n",
    "    print(0,images.shape)\n",
    "    images = images.reshape((-1, 28, 28))[:, ::2, ::2]\n",
    "    # Assign a binary label based on the digit; flip label with probability 0.25\n",
    "    labels = (labels < 5).float()\n",
    "    labels = torch_xor(labels, torch_bernoulli(.25, len(labels)))\n",
    "    # Assign a color based on the label; flip the color with probability e\n",
    "    colors = torch_xor(labels, torch_bernoulli(e, len(labels)))\n",
    "    print(colors)\n",
    "    print(1,images.shape)\n",
    "    # Apply the color to the image by zeroing out the other color channel\n",
    "    images = torch.stack([images, images], dim=1)\n",
    "    print(2,images.shape)\n",
    "    if not grayscale_dup:\n",
    "        images[torch.tensor(range(len(images))), (1-colors).long(), :, :] *= 0\n",
    "    if use_cuda:\n",
    "        return {\n",
    "            'images': (images.float() / 255.).cuda(),\n",
    "            'labels': labels[:, None].cuda()}\n",
    "    else:\n",
    "        return {\n",
    "            'images': (images.float() / 255.),\n",
    "            'labels': labels[:, None]}\n",
    "\n",
    "envs = [make_environment(mnist_train[0][::2], mnist_train[1][::2], flags.train_env_1__color_noise),\n",
    "        make_environment(mnist_train[0][1::2], mnist_train[1][1::2], flags.train_env_2__color_noise),\n",
    "        make_environment(mnist_val[0], mnist_val[1], flags.test_env__color_noise),\n",
    "        make_environment(mnist_val[0], mnist_val[1], flags.test_env__color_noise, grayscale_dup=True)]  "
   ]
  },
  {
   "cell_type": "markdown",
   "id": "f50f3834-135f-427a-a0ff-d1bc99589c1e",
   "metadata": {},
   "source": [
    "### Define Model"
   ]
  },
  {
   "cell_type": "code",
   "execution_count": 7,
   "id": "e0812b7e-35ee-41c7-a81c-4c321dc4b8ec",
   "metadata": {},
   "outputs": [],
   "source": [
    "class MLP(nn.Module):\n",
    "    def __init__(self):\n",
    "        super(MLP, self).__init__()\n",
    "        if flags.grayscale_model:\n",
    "            lin1 = nn.Linear(14 * 14, flags.hidden_dim)\n",
    "        else:\n",
    "            lin1 = nn.Linear(layer_size, flags.hidden_dim)\n",
    "        lin2 = nn.Linear(flags.hidden_dim, flags.hidden_dim)\n",
    "        lin3 = nn.Linear(flags.hidden_dim, 1)\n",
    "        for lin in [lin1, lin2, lin3]:\n",
    "            nn.init.xavier_uniform_(lin.weight)\n",
    "            nn.init.zeros_(lin.bias)\n",
    "        self._main = nn.Sequential(lin1, nn.ReLU(True), lin2, nn.ReLU(True), lin3)\n",
    "    def forward(self, input):\n",
    "        if flags.grayscale_model:\n",
    "            out = input.view(input.shape[0], 2, 14 * 14).sum(dim=1)\n",
    "        else:\n",
    "            out = input.view(input.shape[0], layer_size)\n",
    "        out = self._main(out)\n",
    "        return out\n",
    "if use_cuda:\n",
    "    mlp = MLP().cuda()\n",
    "else:\n",
    "    mlp = MLP()"
   ]
  },
  {
   "cell_type": "markdown",
   "id": "2d83813c-9185-4e5b-9db8-d0f6ae9b3a0a",
   "metadata": {},
   "source": [
    "### Define Loss Functions"
   ]
  },
  {
   "cell_type": "code",
   "execution_count": 8,
   "id": "3612223e-45f2-4c97-9db8-d45d4cb943e8",
   "metadata": {},
   "outputs": [],
   "source": [
    "def mean_nll(logits, y):\n",
    "    return nn.functional.binary_cross_entropy_with_logits(logits, y)\n",
    "\n",
    "def mean_accuracy(logits, y):\n",
    "    preds = (logits > 0.).float()\n",
    "    return ((preds - y).abs() < 1e-2).float().mean()\n",
    "\n",
    "def penalty(logits, y):\n",
    "    if use_cuda:\n",
    "        scale = torch.tensor(1.).cuda().requires_grad_()\n",
    "    else:\n",
    "        scale = torch.tensor(1.).requires_grad_()\n",
    "    loss = mean_nll(logits * scale, y)\n",
    "    grad = autograd.grad(loss, [scale], create_graph=True)[0]\n",
    "    return torch.sum(grad**2)"
   ]
  },
  {
   "cell_type": "markdown",
   "id": "dd714a33-7681-4b8c-8a0a-341e42a837c0",
   "metadata": {},
   "source": [
    "### Train Loop"
   ]
  },
  {
   "cell_type": "code",
   "execution_count": 21,
   "id": "aefb71dd-4b5f-461f-82f3-7e4827ce64ea",
   "metadata": {},
   "outputs": [],
   "source": [
    "def pretty_print(*values):\n",
    "    col_width = 13\n",
    "    def format_val(v):\n",
    "        if not isinstance(v, str):\n",
    "            v = np.array2string(v, precision=5, floatmode='fixed')\n",
    "        return v.ljust(col_width)\n",
    "    str_values = [format_val(v) for v in values]\n",
    "    print(\"   \".join(str_values))\n",
    "optimizer = optim.Adam(mlp.parameters(), lr=flags.lr)"
   ]
  },
  {
   "cell_type": "code",
   "execution_count": 22,
   "id": "c692cbb7-713d-426c-b48a-390cb46b269b",
   "metadata": {},
   "outputs": [
    {
     "name": "stdout",
     "output_type": "stream",
     "text": [
      "step            train nll       train acc       rex penalty     irmv1 penalty   test acc     \n",
      "0               0.65480         0.72000         3.71649e-05     0.00093         0.48709      \n",
      "100             0.55448         0.76000         0.02330         0.01292         0.46009      \n",
      "200             0.63786         0.76000         0.00014         0.00105         0.47770      \n",
      "300             0.64184         0.74000         1.22250e-08     0.00077         0.47418      \n",
      "400             0.64159         0.74000         1.44965e-08     0.00078         0.47418      \n",
      "500             0.64132         0.74000         1.40691e-08     0.00080         0.47418      \n",
      "600             0.64190         0.74000         6.98024e-07     0.00077         0.47418      \n",
      "700             0.64290         0.70000         5.66422e-05     0.00095         0.47535      \n",
      "800             0.64641         0.72000         6.32225e-09     0.00073         0.47770      \n",
      "900             0.64616         0.72000         1.09549e-08     0.00074         0.47887      \n",
      "1000            0.64592         0.70000         1.07315e-08     0.00075         0.47770      \n"
     ]
    }
   ],
   "source": [
    "pretty_print('step', 'train nll', 'train acc', 'rex penalty', 'irmv1 penalty', 'test acc')\n",
    "def rex_calc(loss_list, flag_mse):\n",
    "    rex_penalty = 0\n",
    "    for edx1 in range(len(loss_list[:])):\n",
    "        for edx2 in range(len(loss_list[edx1:])):\n",
    "            if edx1 != edx2 and edx1 != test_index and edx2 != test_index:\n",
    "                if flag_mse:\n",
    "                    sum_loss += (loss_list[edx1].mean() - loss_list[edx].mean()) ** 2\n",
    "                else:\n",
    "                    sum_loss += (loss_list[edx1].mean() - loss_list[edx].mean()).abs()\n",
    "    return rex_penalty\n",
    "    \n",
    "    \n",
    "i = 0\n",
    "test_index = 2\n",
    "for step in range(flags.steps):\n",
    "    n = i % num_batches\n",
    "    for edx, env in enumerate(envs):\n",
    "        if edx != test_index:\n",
    "            logits = mlp(env['images'][n*flags.batch_size:(n+1)*flags.batch_size])\n",
    "            env['nll'] = mean_nll(logits, env['labels'][n*flags.batch_size:(n+1)*flags.batch_size])\n",
    "            env['acc'] = mean_accuracy(logits, env['labels'][n*flags.batch_size:(n+1)*flags.batch_size])\n",
    "            env['penalty'] = penalty(logits, env['labels'][n*flags.batch_size:(n+1)*flags.batch_size])\n",
    "        else:\n",
    "            logits = mlp(env['images'])\n",
    "            env['nll'] = mean_nll(logits, env['labels'])\n",
    "            env['acc'] = mean_accuracy(logits, env['labels'])\n",
    "            env['penalty'] = penalty(logits, env['labels'])\n",
    "    i+=1\n",
    "    \n",
    "    train_nll = torch.stack([env['nll'] for edx, env in enumerate(envs) if edx != test_index]).mean()\n",
    "    train_acc = torch.stack([env['acc'] for edx, env in enumerate(envs) if edx != test_index]).mean()\n",
    "    irmv1_penalty = torch.stack([env['penalty'] for edx, env in enumerate(envs) if edx != test_index]).mean()\n",
    "\n",
    "    if use_cuda:\n",
    "        weight_norm = torch.tensor(0.).cuda()\n",
    "    else:\n",
    "        weight_norm = torch.tensor(0.)\n",
    "    for w in mlp.parameters():\n",
    "        weight_norm += w.norm().pow(2)\n",
    "\n",
    "    loss_list=[env['nll'] for edx, env in enumerate(envs) if edx != test_index]\n",
    "\n",
    "    if flags.early_loss_mean:\n",
    "        loss_list=[loss_unit.mean() for loss_unit in loss_list]\n",
    "        \n",
    "    \n",
    "    loss = 0.0\n",
    "    loss += flags.erm_amount * sum(loss_list)\n",
    "\n",
    "    loss += flags.l2_regularizer_weight * weight_norm\n",
    "\n",
    "    penalty_weight = (flags.penalty_weight \n",
    "        if step >= flags.penalty_anneal_iters else 1.0)\n",
    "    \n",
    "    rex_penalty=rex_calc(loss_list, flags.mse)\n",
    "    # if flags.mse:\n",
    "    #     rex_penalty = (loss_list[0].mean() - loss_list[1].mean()) ** 2\n",
    "    # else:\n",
    "    #     rex_penalty = (loss_list[0].mean() - loss_list[1].mean()).abs()\n",
    "\n",
    "    if flags.rex:\n",
    "        loss += penalty_weight * rex_penalty\n",
    "    else:\n",
    "        loss += penalty_weight * irmv1_penalty\n",
    "\n",
    "    if penalty_weight > 1.0:\n",
    "        # Rescale the entire loss to keep gradients in a reasonable range\n",
    "        loss /= penalty_weight\n",
    "\n",
    "    optimizer.zero_grad()\n",
    "    loss.backward()\n",
    "    optimizer.step()\n",
    "    \n",
    "    test_acc = envs[test_index]['acc']\n",
    "    # grayscale_test_acc = envs[3]['acc']\n",
    "\n",
    "    if step % flags.eval_interval == 0:\n",
    "        train_acc_scalar = train_acc.detach().cpu().numpy()\n",
    "        test_acc_scalar = test_acc.detach().cpu().numpy()\n",
    "        if flags.print_eval_intervals:\n",
    "            pretty_print(\n",
    "                np.int32(step),\n",
    "                train_nll.detach().cpu().numpy(),\n",
    "                train_acc.detach().cpu().numpy(),\n",
    "                rex_penalty.detach().cpu().numpy(),\n",
    "                irmv1_penalty.detach().cpu().numpy(),\n",
    "                test_acc.detach().cpu().numpy())\n",
    "        # if (train_acc_scalar >= test_acc_scalar) and (test_acc_scalar > highest_test_acc):\n",
    "        #       highest_test_acc = test_acc_scalar\n",
    "\n",
    "    # if flags.plot or flags.save_numpy_log:\n",
    "    #     all_train_nlls[restart, step] = train_nll.detach().cpu().numpy()\n",
    "    #     all_train_accs[restart, step] = train_acc.detach().cpu().numpy()\n",
    "    #     all_rex_penalties[restart, step] = rex_penalty.detach().cpu().numpy()\n",
    "    #     all_irmv1_penalties[restart, step] = irmv1_penalty.detach().cpu().numpy()\n",
    "    #     all_test_accs[restart, step] = test_acc.detach().cpu().numpy()\n",
    "    #     all_grayscale_test_accs[restart, step] = grayscale_test_acc.detach().cpu().numpy()\n"
   ]
  },
  {
   "cell_type": "code",
   "execution_count": 18,
   "id": "69177af8-3955-4b93-8bdd-24b261b0f498",
   "metadata": {},
   "outputs": [
    {
     "ename": "IndexError",
     "evalue": "index 2223 is out of bounds for dimension 0 with size 852",
     "output_type": "error",
     "traceback": [
      "\u001b[0;31m---------------------------------------------------------------------------\u001b[0m",
      "\u001b[0;31mIndexError\u001b[0m                                Traceback (most recent call last)",
      "Input \u001b[0;32mIn [18]\u001b[0m, in \u001b[0;36m<cell line: 3>\u001b[0;34m()\u001b[0m\n\u001b[1;32m      1\u001b[0m sel_env\u001b[38;5;241m=\u001b[39m\u001b[38;5;241m-\u001b[39m\u001b[38;5;241m1\u001b[39m\n\u001b[1;32m      2\u001b[0m sel_index\u001b[38;5;241m=\u001b[39m\u001b[38;5;241m2223\u001b[39m\n\u001b[0;32m----> 3\u001b[0m plt\u001b[38;5;241m.\u001b[39mimshow(\u001b[43menvs\u001b[49m\u001b[43m[\u001b[49m\u001b[43msel_env\u001b[49m\u001b[43m]\u001b[49m\u001b[43m[\u001b[49m\u001b[38;5;124;43m'\u001b[39;49m\u001b[38;5;124;43mimages\u001b[39;49m\u001b[38;5;124;43m'\u001b[39;49m\u001b[43m]\u001b[49m\u001b[43m[\u001b[49m\u001b[43msel_index\u001b[49m\u001b[43m]\u001b[49m[\u001b[38;5;241m0\u001b[39m]\u001b[38;5;241m.\u001b[39mdetach()\u001b[38;5;241m.\u001b[39mcpu()\u001b[38;5;241m.\u001b[39mnumpy())\n\u001b[1;32m      4\u001b[0m plt\u001b[38;5;241m.\u001b[39mshow()\n\u001b[1;32m      5\u001b[0m plt\u001b[38;5;241m.\u001b[39mimshow(envs[sel_env][\u001b[38;5;124m'\u001b[39m\u001b[38;5;124mimages\u001b[39m\u001b[38;5;124m'\u001b[39m][sel_index][\u001b[38;5;241m1\u001b[39m]\u001b[38;5;241m.\u001b[39mdetach()\u001b[38;5;241m.\u001b[39mcpu()\u001b[38;5;241m.\u001b[39mnumpy())\n",
      "\u001b[0;31mIndexError\u001b[0m: index 2223 is out of bounds for dimension 0 with size 852"
     ]
    }
   ],
   "source": [
    "sel_env=-1\n",
    "sel_index=2223\n",
    "plt.imshow(envs[sel_env]['images'][sel_index][0].detach().cpu().numpy())\n",
    "plt.show()\n",
    "plt.imshow(envs[sel_env]['images'][sel_index][1].detach().cpu().numpy())\n",
    "envs[sel_env]['labels'][sel_index].detach().cpu().numpy()[0]"
   ]
  },
  {
   "cell_type": "code",
   "execution_count": null,
   "id": "ba79dd9d-84b1-47e5-9276-12099358091c",
   "metadata": {},
   "outputs": [],
   "source": []
  }
 ],
 "metadata": {
  "kernelspec": {
   "display_name": "torch(subject_var)",
   "language": "python",
   "name": "torch"
  },
  "language_info": {
   "codemirror_mode": {
    "name": "ipython",
    "version": 3
   },
   "file_extension": ".py",
   "mimetype": "text/x-python",
   "name": "python",
   "nbconvert_exporter": "python",
   "pygments_lexer": "ipython3",
   "version": "3.9.12"
  }
 },
 "nbformat": 4,
 "nbformat_minor": 5
}
